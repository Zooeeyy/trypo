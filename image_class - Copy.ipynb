{
 "cells": [
  {
   "cell_type": "code",
   "execution_count": 1,
   "metadata": {},
   "outputs": [],
   "source": [
    "# Import necessary libraries\n",
    "import tensorflow as tf\n",
    "from tensorflow.keras import datasets, layers, models"
   ]
  },
  {
   "cell_type": "code",
   "execution_count": 3,
   "metadata": {},
   "outputs": [
    {
     "name": "stdout",
     "output_type": "stream",
     "text": [
      "Downloading data from https://www.cs.toronto.edu/~kriz/cifar-10-python.tar.gz\n"
     ]
    },
    {
     "name": "stdout",
     "output_type": "stream",
     "text": [
      "170498071/170498071 [==============================] - 144s 1us/step\n"
     ]
    }
   ],
   "source": [
    "# Load CIFAR-10 dataset\n",
    "(train_images, train_labels), (test_images, test_labels) = datasets.cifar10.load_data()"
   ]
  },
  {
   "cell_type": "code",
   "execution_count": 4,
   "metadata": {},
   "outputs": [],
   "source": [
    "# Normalize pixel values to be between 0 and 1\n",
    "train_images, test_images = train_images / 255.0, test_images / 255.0"
   ]
  },
  {
   "cell_type": "code",
   "execution_count": 5,
   "metadata": {},
   "outputs": [],
   "source": [
    "# Define the model architecture\n",
    "model = models.Sequential()\n",
    "model.add(layers.Conv2D(32, (3, 3), activation='relu', input_shape=(32,\n",
    "32, 3)))\n",
    "model.add(layers.MaxPooling2D((2, 2)))\n",
    "model.add(layers.Conv2D(64, (3, 3), activation='relu'))\n",
    "model.add(layers.MaxPooling2D((2, 2)))\n",
    "model.add(layers.Conv2D(64, (3, 3), activation='relu'))"
   ]
  },
  {
   "cell_type": "code",
   "execution_count": 6,
   "metadata": {},
   "outputs": [],
   "source": [
    "# Add Dense layers on top\n",
    "model.add(layers.Flatten())\n",
    "model.add(layers.Dense(64, activation='relu'))\n",
    "model.add(layers.Dense(10))"
   ]
  },
  {
   "cell_type": "code",
   "execution_count": 7,
   "metadata": {},
   "outputs": [
    {
     "name": "stdout",
     "output_type": "stream",
     "text": [
      "Epoch 1/10\n",
      "1563/1563 [==============================] - 41s 25ms/step - loss: 1.5027 - accuracy: 0.4511 - val_loss: 1.2193 - val_accuracy: 0.5692\n",
      "Epoch 2/10\n",
      "1563/1563 [==============================] - 36s 23ms/step - loss: 1.1565 - accuracy: 0.5885 - val_loss: 1.1458 - val_accuracy: 0.5851\n",
      "Epoch 3/10\n",
      "1563/1563 [==============================] - 39s 25ms/step - loss: 1.0153 - accuracy: 0.6408 - val_loss: 1.0323 - val_accuracy: 0.6448\n",
      "Epoch 4/10\n",
      "1563/1563 [==============================] - 38s 25ms/step - loss: 0.9228 - accuracy: 0.6775 - val_loss: 0.9768 - val_accuracy: 0.6598\n",
      "Epoch 5/10\n",
      "1563/1563 [==============================] - 38s 24ms/step - loss: 0.8508 - accuracy: 0.6997 - val_loss: 0.9586 - val_accuracy: 0.6669\n",
      "Epoch 6/10\n",
      "1563/1563 [==============================] - 38s 25ms/step - loss: 0.7876 - accuracy: 0.7242 - val_loss: 0.9419 - val_accuracy: 0.6812\n",
      "Epoch 7/10\n",
      "1563/1563 [==============================] - 41s 26ms/step - loss: 0.7347 - accuracy: 0.7418 - val_loss: 0.8865 - val_accuracy: 0.6978\n",
      "Epoch 8/10\n",
      "1563/1563 [==============================] - 40s 25ms/step - loss: 0.6869 - accuracy: 0.7607 - val_loss: 0.9047 - val_accuracy: 0.6973\n",
      "Epoch 9/10\n",
      "1563/1563 [==============================] - 37s 24ms/step - loss: 0.6468 - accuracy: 0.7723 - val_loss: 0.8827 - val_accuracy: 0.7025\n",
      "Epoch 10/10\n",
      "1563/1563 [==============================] - 35s 23ms/step - loss: 0.6031 - accuracy: 0.7889 - val_loss: 0.8820 - val_accuracy: 0.7091\n"
     ]
    },
    {
     "data": {
      "text/plain": [
       "{'loss': [1.5026867389678955,\n",
       "  1.1565325260162354,\n",
       "  1.0152814388275146,\n",
       "  0.9228333830833435,\n",
       "  0.850750207901001,\n",
       "  0.7875712513923645,\n",
       "  0.7347291111946106,\n",
       "  0.6868528723716736,\n",
       "  0.6467555165290833,\n",
       "  0.60313880443573],\n",
       " 'accuracy': [0.45113998651504517,\n",
       "  0.5884799957275391,\n",
       "  0.6407999992370605,\n",
       "  0.6774799823760986,\n",
       "  0.6997399926185608,\n",
       "  0.7242199778556824,\n",
       "  0.7418400049209595,\n",
       "  0.7607399821281433,\n",
       "  0.7723000049591064,\n",
       "  0.7888799905776978],\n",
       " 'val_loss': [1.219313621520996,\n",
       "  1.1458441019058228,\n",
       "  1.0322909355163574,\n",
       "  0.9767856597900391,\n",
       "  0.958564281463623,\n",
       "  0.9418545961380005,\n",
       "  0.8864680528640747,\n",
       "  0.9046513438224792,\n",
       "  0.8826728463172913,\n",
       "  0.8819711804389954],\n",
       " 'val_accuracy': [0.5691999793052673,\n",
       "  0.585099995136261,\n",
       "  0.6448000073432922,\n",
       "  0.6597999930381775,\n",
       "  0.6668999791145325,\n",
       "  0.6812000274658203,\n",
       "  0.6977999806404114,\n",
       "  0.6973000168800354,\n",
       "  0.7024999856948853,\n",
       "  0.7091000080108643]}"
      ]
     },
     "execution_count": 7,
     "metadata": {},
     "output_type": "execute_result"
    }
   ],
   "source": [
    "# Compile and train the model\n",
    "model.compile(optimizer='adam', loss=tf.keras.losses.SparseCategoricalCrossentropy(from_logits=True), metrics=['accuracy'])\n",
    "\n",
    "history = model.fit(train_images, train_labels, epochs=10, validation_data=(test_images, test_labels))\n",
    "history.history"
   ]
  },
  {
   "cell_type": "code",
   "execution_count": 8,
   "metadata": {},
   "outputs": [],
   "source": [
    "import numpy as np\n",
    "import matplotlib.pyplot as plt"
   ]
  },
  {
   "cell_type": "code",
   "execution_count": 9,
   "metadata": {},
   "outputs": [],
   "source": [
    "# Choose a random image from the test dataset\n",
    "i = np.random.randint(0, len(test_images))\n",
    "img = test_images[i]"
   ]
  },
  {
   "cell_type": "code",
   "execution_count": 10,
   "metadata": {},
   "outputs": [],
   "source": [
    "# Prepare the image to be used with the model\n",
    "img_array = np.expand_dims(img, axis=0)\n"
   ]
  },
  {
   "cell_type": "code",
   "execution_count": 11,
   "metadata": {},
   "outputs": [
    {
     "name": "stdout",
     "output_type": "stream",
     "text": [
      "1/1 [==============================] - 0s 384ms/step\n"
     ]
    }
   ],
   "source": [
    "# Use the model to predict the image's class\n",
    "pred = model.predict(img_array)\n",
    "class_idx = np.argmax(pred[0])"
   ]
  },
  {
   "cell_type": "code",
   "execution_count": 12,
   "metadata": {},
   "outputs": [],
   "source": [
    "# Define the CIFAR-10 classes\n",
    "cifar10_classes = ['airplane', 'automobile', 'bird', 'cat', 'deer',\n",
    "'dog', 'frog', 'horse', 'ship', 'truck']"
   ]
  },
  {
   "cell_type": "code",
   "execution_count": 13,
   "metadata": {},
   "outputs": [
    {
     "name": "stdout",
     "output_type": "stream",
     "text": [
      "Predicted class: bird\n",
      "Actual class: deer\n"
     ]
    }
   ],
   "source": [
    "# Print the predicted and actual class of the image\n",
    "print(\"Predicted class:\", cifar10_classes[class_idx])\n",
    "print(\"Actual class:\", cifar10_classes[test_labels[i][0]])"
   ]
  },
  {
   "cell_type": "code",
   "execution_count": 14,
   "metadata": {},
   "outputs": [
    {
     "data": {
      "image/png": "[encoded data removed]",
      "text/plain": [
       "<Figure size 640x480 with 1 Axes>"
      ]
     },
     "metadata": {},
     "output_type": "display_data"
    }
   ],
   "source": [
    "# Display the image\n",
    "plt.imshow(img)\n",
    "plt.show()"
   ]
  }
 ],
 "metadata": {
  "kernelspec": {
   "display_name": "09040620070DATAMINING2023",
   "language": "python",
   "name": "python3"
  },
  "language_info": {
   "codemirror_mode": {
    "name": "ipython",
    "version": 3
   },
   "file_extension": ".py",
   "mimetype": "text/x-python",
   "name": "python",
   "nbconvert_exporter": "python",
   "pygments_lexer": "ipython3",
   "version": "3.11.4"
  },
  "orig_nbformat": 4
 },
 "nbformat": 4,
 "nbformat_minor": 2
}
