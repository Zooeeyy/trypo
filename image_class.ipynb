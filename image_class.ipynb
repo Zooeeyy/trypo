{
 "cells": [
  {
   "cell_type": "code",
   "execution_count": 1,
   "metadata": {},
   "outputs": [],
   "source": [
    "# Import necessary libraries\n",
    "import tensorflow as tf\n",
    "from tensorflow.keras import datasets, layers, models"
   ]
  },
  {
   "cell_type": "code",
   "execution_count": 2,
   "metadata": {},
   "outputs": [],
   "source": [
    "# Load CIFAR-10 dataset\n",
    "(train_images, train_labels), (test_images, test_labels) = datasets.cifar10.load_data()"
   ]
  },
  {
   "cell_type": "code",
   "execution_count": 3,
   "metadata": {},
   "outputs": [],
   "source": [
    "# Normalize pixel values to be between 0 and 1\n",
    "train_images, test_images = train_images / 255.0, test_images / 255.0"
   ]
  },
  {
   "cell_type": "code",
   "execution_count": 4,
   "metadata": {},
   "outputs": [],
   "source": [
    "# Define the model architecture\n",
    "model = models.Sequential()\n",
    "model.add(layers.Conv2D(32, (3, 3), activation='relu', input_shape=(32,\n",
    "32, 3)))\n",
    "model.add(layers.MaxPooling2D((2, 2)))\n",
    "model.add(layers.Conv2D(64, (3, 3), activation='relu'))\n",
    "model.add(layers.MaxPooling2D((2, 2)))\n",
    "model.add(layers.Conv2D(64, (3, 3), activation='relu'))"
   ]
  },
  {
   "cell_type": "code",
   "execution_count": 5,
   "metadata": {},
   "outputs": [],
   "source": [
    "# Add Dense layers on top\n",
    "model.add(layers.Flatten())\n",
    "model.add(layers.Dense(64, activation='relu'))\n",
    "model.add(layers.Dense(10))"
   ]
  },
  {
   "cell_type": "code",
   "execution_count": 6,
   "metadata": {},
   "outputs": [
    {
     "name": "stdout",
     "output_type": "stream",
     "text": [
      "Epoch 1/10\n",
      "1563/1563 [==============================] - 43s 27ms/step - loss: 1.5097 - accuracy: 0.4489 - val_loss: 1.2373 - val_accuracy: 0.5590\n",
      "Epoch 2/10\n",
      "1563/1563 [==============================] - 34s 22ms/step - loss: 1.1394 - accuracy: 0.5953 - val_loss: 1.0516 - val_accuracy: 0.6277\n",
      "Epoch 3/10\n",
      "1563/1563 [==============================] - 35s 22ms/step - loss: 0.9863 - accuracy: 0.6533 - val_loss: 0.9543 - val_accuracy: 0.6636\n",
      "Epoch 4/10\n",
      "1563/1563 [==============================] - 35s 22ms/step - loss: 0.8829 - accuracy: 0.6907 - val_loss: 0.9213 - val_accuracy: 0.6844\n",
      "Epoch 5/10\n",
      "1563/1563 [==============================] - 36s 23ms/step - loss: 0.8009 - accuracy: 0.7191 - val_loss: 0.9132 - val_accuracy: 0.6859\n",
      "Epoch 6/10\n",
      "1563/1563 [==============================] - 34s 22ms/step - loss: 0.7364 - accuracy: 0.7402 - val_loss: 0.8992 - val_accuracy: 0.6933\n",
      "Epoch 7/10\n",
      "1563/1563 [==============================] - 35s 23ms/step - loss: 0.6832 - accuracy: 0.7592 - val_loss: 0.8551 - val_accuracy: 0.7030\n",
      "Epoch 8/10\n",
      "1563/1563 [==============================] - 34s 22ms/step - loss: 0.6383 - accuracy: 0.7732 - val_loss: 0.8923 - val_accuracy: 0.7000\n",
      "Epoch 9/10\n",
      "1563/1563 [==============================] - 35s 23ms/step - loss: 0.5909 - accuracy: 0.7919 - val_loss: 0.8717 - val_accuracy: 0.7118\n",
      "Epoch 10/10\n",
      "1563/1563 [==============================] - 35s 23ms/step - loss: 0.5535 - accuracy: 0.8038 - val_loss: 0.9021 - val_accuracy: 0.7031\n"
     ]
    },
    {
     "data": {
      "text/plain": [
       "{'loss': [1.5097376108169556,\n",
       "  1.1393946409225464,\n",
       "  0.9862830638885498,\n",
       "  0.8828921318054199,\n",
       "  0.8009233474731445,\n",
       "  0.7363927960395813,\n",
       "  0.6832265853881836,\n",
       "  0.6382601857185364,\n",
       "  0.5908991098403931,\n",
       "  0.5535069108009338],\n",
       " 'accuracy': [0.4489400088787079,\n",
       "  0.5953199863433838,\n",
       "  0.6532800197601318,\n",
       "  0.6906599998474121,\n",
       "  0.7190799713134766,\n",
       "  0.7402200102806091,\n",
       "  0.7591999769210815,\n",
       "  0.7731800079345703,\n",
       "  0.7918800115585327,\n",
       "  0.803820013999939],\n",
       " 'val_loss': [1.2373347282409668,\n",
       "  1.0515738725662231,\n",
       "  0.954262375831604,\n",
       "  0.9213417172431946,\n",
       "  0.9131504893302917,\n",
       "  0.8991593718528748,\n",
       "  0.8550686240196228,\n",
       "  0.8922561407089233,\n",
       "  0.8717420697212219,\n",
       "  0.9021178483963013],\n",
       " 'val_accuracy': [0.5590000152587891,\n",
       "  0.6276999711990356,\n",
       "  0.6636000275611877,\n",
       "  0.6844000220298767,\n",
       "  0.6858999729156494,\n",
       "  0.6933000087738037,\n",
       "  0.703000009059906,\n",
       "  0.699999988079071,\n",
       "  0.7117999792098999,\n",
       "  0.7031000256538391]}"
      ]
     },
     "execution_count": 6,
     "metadata": {},
     "output_type": "execute_result"
    }
   ],
   "source": [
    "# Compile and train the model\n",
    "model.compile(optimizer='adam', loss=tf.keras.losses.SparseCategoricalCrossentropy(from_logits=True), metrics=['accuracy'])\n",
    "\n",
    "history = model.fit(train_images, train_labels, epochs=10, validation_data=(test_images, test_labels))\n",
    "history.history"
   ]
  },
  {
   "cell_type": "code",
   "execution_count": 7,
   "metadata": {},
   "outputs": [],
   "source": [
    "import numpy as np\n",
    "import matplotlib.pyplot as plt"
   ]
  },
  {
   "cell_type": "code",
   "execution_count": 8,
   "metadata": {},
   "outputs": [],
   "source": [
    "# Choose a random image from the test dataset\n",
    "i = np.random.randint(0, len(test_images))\n",
    "img = test_images[i]"
   ]
  },
  {
   "cell_type": "code",
   "execution_count": 9,
   "metadata": {},
   "outputs": [],
   "source": [
    "# Prepare the image to be used with the model\n",
    "img_array = np.expand_dims(img, axis=0)\n"
   ]
  },
  {
   "cell_type": "code",
   "execution_count": 10,
   "metadata": {},
   "outputs": [
    {
     "name": "stdout",
     "output_type": "stream",
     "text": [
      "1/1 [==============================] - 3s 3s/step\n"
     ]
    }
   ],
   "source": [
    "# Use the model to predict the image's class\n",
    "pred = model.predict(img_array)\n",
    "class_idx = np.argmax(pred[0])"
   ]
  },
  {
   "cell_type": "code",
   "execution_count": 11,
   "metadata": {},
   "outputs": [],
   "source": [
    "# Define the CIFAR-10 classes\n",
    "cifar10_classes = ['airplane', 'automobile', 'bird', 'cat', 'deer',\n",
    "'dog', 'frog', 'horse', 'ship', 'truck']"
   ]
  },
  {
   "cell_type": "code",
   "execution_count": 12,
   "metadata": {},
   "outputs": [
    {
     "name": "stdout",
     "output_type": "stream",
     "text": [
      "Predicted class: bird\n",
      "Actual class: cat\n"
     ]
    }
   ],
   "source": [
    "# Print the predicted and actual class of the image\n",
    "print(\"Predicted class:\", cifar10_classes[class_idx])\n",
    "print(\"Actual class:\", cifar10_classes[test_labels[i][0]])"
   ]
  },
  {
   "cell_type": "code",
   "execution_count": 13,
   "metadata": {},
   "outputs": [
    {
     "data": {
      "image/png": "[encoded data removed]",
      "text/plain": [
       "<Figure size 640x480 with 1 Axes>"
      ]
     },
     "metadata": {},
     "output_type": "display_data"
    }
   ],
   "source": [
    "# Display the image\n",
    "plt.imshow(img)\n",
    "plt.show()"
   ]
  }
 ],
 "metadata": {
  "kernelspec": {
   "display_name": "09040620070DATAMINING2023",
   "language": "python",
   "name": "python3"
  },
  "language_info": {
   "codemirror_mode": {
    "name": "ipython",
    "version": 3
   },
   "file_extension": ".py",
   "mimetype": "text/x-python",
   "name": "python",
   "nbconvert_exporter": "python",
   "pygments_lexer": "ipython3",
   "version": "3.11.4"
  },
  "orig_nbformat": 4
 },
 "nbformat": 4,
 "nbformat_minor": 2
}
